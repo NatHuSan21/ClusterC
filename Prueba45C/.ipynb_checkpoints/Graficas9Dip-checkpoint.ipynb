{
 "cells": [
  {
   "cell_type": "code",
   "execution_count": 1,
   "metadata": {
    "colab": {
     "base_uri": "https://localhost:8080/"
    },
    "id": "4TOgU3uidVOs",
    "outputId": "0911bcf4-73a8-4cea-e603-762dc754b236"
   },
   "outputs": [],
   "source": [
    "#from google.colab import drive\n",
    "#drive.mount('/content/gdrive/')"
   ]
  },
  {
   "cell_type": "code",
   "execution_count": 2,
   "metadata": {
    "id": "dHUiwyD3dVI3"
   },
   "outputs": [],
   "source": [
    "#import sys\n",
    "#sys.path.append('/content/gdrive/MyDrive/SeminariodetesisI/Codigo/DIP_VBTV/')\n"
   ]
  },
  {
   "cell_type": "code",
   "execution_count": 3,
   "metadata": {
    "id": "R1_Jru2GdNrO"
   },
   "outputs": [],
   "source": [
    "#import os\n",
    "import cv2\n",
    "import numpy as np\n",
    "import matplotlib.pyplot as plt"
   ]
  },
  {
   "cell_type": "code",
   "execution_count": 4,
   "metadata": {
    "id": "EjSdnmwHgWyk"
   },
   "outputs": [],
   "source": [
    "nameimg = 'image_Lena512rgb.png' #'kodim13.png' #'kodim18.png'#'butterfly.png'#"
   ]
  },
  {
   "cell_type": "code",
   "execution_count": 5,
   "metadata": {
    "colab": {
     "base_uri": "https://localhost:8080/"
    },
    "id": "kbpR9nPfesLg",
    "outputId": "eaf9404a-1b2e-431a-f27b-da7995074fa0"
   },
   "outputs": [
    {
     "name": "stdout",
     "output_type": "stream",
     "text": [
      "[[37.93373689 37.98758794 38.02128831 ... 37.90145576 38.10255717\n",
      "  38.06029157]\n",
      " [37.16758034 37.0194002  37.13725827 ... 37.27056222 37.61868978\n",
      "  37.43111848]\n",
      " [36.56639023 36.04613433 36.5615042  ... 36.57529293 36.99628184\n",
      "  36.87990736]\n",
      " ...\n",
      " [34.53080014 33.39028443 32.67120979 ... 19.98189005 18.96666318\n",
      "  18.86534048]\n",
      " [34.53622392 33.38902591 32.6700386  ... 19.98199111 18.96660817\n",
      "  18.86576686]\n",
      " [34.53251788 33.38888211 32.67127267 ... 19.98217337 18.96600014\n",
      "  18.86621295]]\n"
     ]
    }
   ],
   "source": [
    "#ruta = '/content/gdrive/MyDrive/SeminariodetesisI/Codigo/DIP_VBTV/txt/'\n",
    "ruta = './txt/'\n",
    "name = nameimg.replace('.png','.csv')\n",
    "\n",
    "plotY = []\n",
    "\n",
    "fname = ruta + 'DIP91' + 'denPNSR' + name \n",
    "#fname = ruta + 'P5' + 'debPNSR' + name \n",
    "#'/txt/1denMAXvalimage_Lena512rgb.csv'\n",
    "data = np.genfromtxt(fname, delimiter=',')\n",
    "plotY.append(data)\n",
    "print(data)"
   ]
  },
  {
   "cell_type": "code",
   "execution_count": 6,
   "metadata": {},
   "outputs": [
    {
     "name": "stdout",
     "output_type": "stream",
     "text": [
      "[[0.00000000e+00 1.29444547e+07 5.53000000e+02]\n",
      " [1.00000000e-06 1.29444543e+07 5.84000000e+02]\n",
      " [3.00000000e-06 1.29444549e+07 4.76000000e+02]\n",
      " [5.00000000e-06 1.29444544e+07 6.38000000e+02]\n",
      " [7.00000000e-06 1.29444544e+07 6.05000000e+02]\n",
      " [1.00000000e-05 1.29444541e+07 9.19000000e+02]\n",
      " [3.00000000e-05 1.29444539e+07 4.77800000e+03]\n",
      " [5.00000000e-05 1.29444544e+07 1.59500000e+03]\n",
      " [7.00000000e-05 1.29444541e+07 3.12200000e+03]\n",
      " [1.00000000e-04 1.29444546e+07 4.95600000e+03]\n",
      " [3.00000000e-04 1.29444553e+07 1.14700000e+03]\n",
      " [5.00000000e-04 1.29444554e+07 1.03700000e+03]\n",
      " [7.00000000e-04 1.29444555e+07 1.70000000e+03]\n",
      " [1.00000000e-03 1.29444555e+07 1.06900000e+03]\n",
      " [3.00000000e-03 1.29444549e+07 2.06900000e+03]\n",
      " [5.00000000e-03 1.29444559e+07 1.51400000e+03]\n",
      " [7.00000000e-03 1.29444548e+07 2.65100000e+03]\n",
      " [1.00000000e-02 1.29444539e+07 2.38000000e+02]\n",
      " [3.00000000e-02 1.29444538e+07 3.27000000e+02]\n",
      " [5.00000000e-02 1.29444536e+07 3.38000000e+02]\n",
      " [7.00000000e-02 1.29444549e+07 4.34900000e+03]]\n"
     ]
    }
   ],
   "source": [
    "minMSE = []\n",
    "\n",
    "#fname = ruta + 'P5' + 'denPNSR' + name \n",
    "fname = ruta + 'DIP91' + 'denMSE' + name \n",
    "#'/txt/1denMAXvalimage_Lena512rgb.csv'\n",
    "data = np.genfromtxt(fname, delimiter=',')\n",
    "minMSE.append(data)\n",
    "print(data)"
   ]
  },
  {
   "cell_type": "code",
   "execution_count": 7,
   "metadata": {
    "colab": {
     "base_uri": "https://localhost:8080/"
    },
    "id": "VPL6MRKpesTV",
    "outputId": "999864c8-689a-4a49-eca1-49cfa09e6d17"
   },
   "outputs": [
    {
     "name": "stdout",
     "output_type": "stream",
     "text": [
      "[[0.00000000e+00 3.79337369e+01 0.00000000e+00]\n",
      " [1.00000000e-06 3.79875879e+01 0.00000000e+00]\n",
      " [3.00000000e-06 3.80212883e+01 0.00000000e+00]\n",
      " [5.00000000e-06 3.80629749e+01 0.00000000e+00]\n",
      " [7.00000000e-06 3.78146823e+01 0.00000000e+00]\n",
      " [1.00000000e-05 3.79990554e+01 0.00000000e+00]\n",
      " [3.00000000e-05 3.76588234e+01 0.00000000e+00]\n",
      " [5.00000000e-05 3.73934091e+01 0.00000000e+00]\n",
      " [7.00000000e-05 3.77745849e+01 0.00000000e+00]\n",
      " [1.00000000e-04 3.78362937e+01 0.00000000e+00]\n",
      " [3.00000000e-04 3.79460642e+01 0.00000000e+00]\n",
      " [5.00000000e-04 3.75907905e+01 0.00000000e+00]\n",
      " [7.00000000e-04 3.77699228e+01 0.00000000e+00]\n",
      " [1.00000000e-03 3.78297779e+01 0.00000000e+00]\n",
      " [3.00000000e-03 3.80450937e+01 0.00000000e+00]\n",
      " [5.00000000e-03 3.78393340e+01 0.00000000e+00]\n",
      " [7.00000000e-03 3.79648018e+01 0.00000000e+00]\n",
      " [1.00000000e-02 3.76877420e+01 0.00000000e+00]\n",
      " [3.00000000e-02 3.79014558e+01 0.00000000e+00]\n",
      " [5.00000000e-02 3.81025572e+01 0.00000000e+00]\n",
      " [7.00000000e-02 3.80602916e+01 0.00000000e+00]]\n"
     ]
    }
   ],
   "source": [
    "maxPnsr = []\n",
    "\n",
    "\n",
    "fname = ruta + 'DIP91' + 'denMAXval' + name\n",
    "#fname = ruta + 'P5' + 'debMAXval' + name\n",
    "#'/txt/1denMAXvalimage_Lena512rgb.csv'\n",
    "data = np.genfromtxt(fname, delimiter=',')\n",
    "maxPnsr.append(data)\n",
    "print(data)"
   ]
  },
  {
   "cell_type": "code",
   "execution_count": 8,
   "metadata": {
    "colab": {
     "base_uri": "https://localhost:8080/"
    },
    "id": "BPBQS50_lT8w",
    "outputId": "7ba7e484-114f-442e-9182-f144d43d8fa1"
   },
   "outputs": [
    {
     "data": {
      "text/plain": [
       "0.001"
      ]
     },
     "execution_count": 8,
     "metadata": {},
     "output_type": "execute_result"
    }
   ],
   "source": [
    "maxPnsr[0][13,0]"
   ]
  },
  {
   "cell_type": "code",
   "execution_count": 9,
   "metadata": {
    "colab": {
     "base_uri": "https://localhost:8080/"
    },
    "id": "dsuirfSakOm6",
    "outputId": "735ec095-381f-4f5a-a203-509899885caf"
   },
   "outputs": [
    {
     "data": {
      "text/plain": [
       "21"
      ]
     },
     "execution_count": 9,
     "metadata": {},
     "output_type": "execute_result"
    }
   ],
   "source": [
    "len(maxPnsr[0])"
   ]
  },
  {
   "cell_type": "code",
   "execution_count": 10,
   "metadata": {
    "id": "tO2GjsFckJ-K"
   },
   "outputs": [],
   "source": [
    "def pritnTab(Data):\n",
    "    n = len(Data[0])\n",
    "    for i in range(n):\n",
    "        print(Data[0][i,0], ' & ' ,Data[0][i,1] , ' & ', Data[0][i,2] , ' \\\\\\\\' )"
   ]
  },
  {
   "cell_type": "code",
   "execution_count": 11,
   "metadata": {
    "colab": {
     "base_uri": "https://localhost:8080/"
    },
    "id": "4WKJxJLkl1yF",
    "outputId": "8d463520-cbef-4e78-dd4f-e03f7c2b18cf"
   },
   "outputs": [
    {
     "name": "stdout",
     "output_type": "stream",
     "text": [
      "0.0  &  37.933736889194236  &  0.0  \\\\\n",
      "1e-06  &  37.98758793655534  &  0.0  \\\\\n",
      "3e-06  &  38.02128830971984  &  0.0  \\\\\n",
      "5e-06  &  38.06297487860854  &  0.0  \\\\\n",
      "7e-06  &  37.81468227924816  &  0.0  \\\\\n",
      "1e-05  &  37.99905540364324  &  0.0  \\\\\n",
      "3e-05  &  37.65882342072774  &  0.0  \\\\\n",
      "5e-05  &  37.39340912069465  &  0.0  \\\\\n",
      "7e-05  &  37.77458489659951  &  0.0  \\\\\n",
      "0.0001  &  37.83629371255735  &  0.0  \\\\\n",
      "0.0003  &  37.94606418740586  &  0.0  \\\\\n",
      "0.0005  &  37.590790481436  &  0.0  \\\\\n",
      "0.0007  &  37.7699227930501  &  0.0  \\\\\n",
      "0.001  &  37.82977788635599  &  0.0  \\\\\n",
      "0.003  &  38.04509368582401  &  0.0  \\\\\n",
      "0.005  &  37.839334038488005  &  0.0  \\\\\n",
      "0.007  &  37.96480183387055  &  0.0  \\\\\n",
      "0.01  &  37.68774204461532  &  0.0  \\\\\n",
      "0.03  &  37.901455755912956  &  0.0  \\\\\n",
      "0.05  &  38.102557167928914  &  0.0  \\\\\n",
      "0.07  &  38.06029156523751  &  0.0  \\\\\n"
     ]
    }
   ],
   "source": [
    "pritnTab(maxPnsr)"
   ]
  },
  {
   "cell_type": "code",
   "execution_count": 12,
   "metadata": {
    "id": "8c9aKjm1nEd2"
   },
   "outputs": [],
   "source": [
    "pns = np.array(maxPnsr)"
   ]
  },
  {
   "cell_type": "code",
   "execution_count": 13,
   "metadata": {
    "colab": {
     "base_uri": "https://localhost:8080/"
    },
    "id": "s6fpfa-zn1JW",
    "outputId": "631510a9-a646-40e0-d471-3f5b7733c2ea"
   },
   "outputs": [
    {
     "data": {
      "text/plain": [
       "array([[0.e+00],\n",
       "       [1.e-06],\n",
       "       [3.e-06],\n",
       "       [5.e-06],\n",
       "       [7.e-06],\n",
       "       [1.e-05],\n",
       "       [3.e-05],\n",
       "       [5.e-05],\n",
       "       [7.e-05],\n",
       "       [1.e-04],\n",
       "       [3.e-04],\n",
       "       [5.e-04],\n",
       "       [7.e-04],\n",
       "       [1.e-03],\n",
       "       [3.e-03],\n",
       "       [5.e-03],\n",
       "       [7.e-03],\n",
       "       [1.e-02],\n",
       "       [3.e-02],\n",
       "       [5.e-02],\n",
       "       [7.e-02]])"
      ]
     },
     "execution_count": 13,
     "metadata": {},
     "output_type": "execute_result"
    }
   ],
   "source": [
    "pns.T[0]"
   ]
  },
  {
   "cell_type": "code",
   "execution_count": 14,
   "metadata": {
    "colab": {
     "base_uri": "https://localhost:8080/"
    },
    "id": "ygmasQEHrHXF",
    "outputId": "8bed419a-c719-453f-b540-fb3d36c5cd8e"
   },
   "outputs": [
    {
     "data": {
      "text/plain": [
       "(38.102557167928914, 19)"
      ]
     },
     "execution_count": 14,
     "metadata": {},
     "output_type": "execute_result"
    }
   ],
   "source": [
    "(np.max(pns.T[1]), np.argmax(pns.T[1]))"
   ]
  },
  {
   "cell_type": "code",
   "execution_count": 15,
   "metadata": {
    "colab": {
     "base_uri": "https://localhost:8080/"
    },
    "id": "ls6OKrwnrkAr",
    "outputId": "97c7214b-53ac-460d-9a87-03541fafe88a"
   },
   "outputs": [
    {
     "data": {
      "text/plain": [
       "array([0.16882028])"
      ]
     },
     "execution_count": 15,
     "metadata": {},
     "output_type": "execute_result"
    }
   ],
   "source": [
    "np.max(pns.T[1]) - pns.T[1,0]"
   ]
  },
  {
   "cell_type": "code",
   "execution_count": 16,
   "metadata": {},
   "outputs": [
    {
     "name": "stdout",
     "output_type": "stream",
     "text": [
      "38.102557167928914 19\n"
     ]
    },
    {
     "data": {
      "text/plain": [
       "0.05"
      ]
     },
     "execution_count": 16,
     "metadata": {},
     "output_type": "execute_result"
    }
   ],
   "source": [
    "vMX, q =(np.max(pns.T[1]), np.argmax(pns.T[1]))\n",
    "print(vMX,q)\n",
    "pns[0,q,0]"
   ]
  },
  {
   "cell_type": "code",
   "execution_count": 17,
   "metadata": {
    "colab": {
     "base_uri": "https://localhost:8080/",
     "height": 281
    },
    "id": "jtxngnvUnjnn",
    "outputId": "80f07ec1-e099-49c7-ce1f-356a7d039a1b"
   },
   "outputs": [
    {
     "data": {
      "image/png": "[encoded data removed]",
      "text/plain": [
       "<Figure size 432x288 with 1 Axes>"
      ]
     },
     "metadata": {
      "needs_background": "light"
     },
     "output_type": "display_data"
    }
   ],
   "source": [
    "x = pns.T[0]\n",
    "y = pns.T[1]\n",
    "plt.plot(x,y,'-',x,y,'ro')\n",
    "plt.xlabel('$\\lambda$')\n",
    "plt.ylabel('PNSR')\n",
    "plt.show()"
   ]
  },
  {
   "cell_type": "code",
   "execution_count": 18,
   "metadata": {
    "colab": {
     "base_uri": "https://localhost:8080/",
     "height": 281
    },
    "id": "f7ssumDCpxed",
    "outputId": "88058cb4-ba75-4161-f552-7df8e597064d"
   },
   "outputs": [
    {
     "data": {
      "image/png": "[encoded data removed]",
      "text/plain": [
       "<Figure size 432x288 with 1 Axes>"
      ]
     },
     "metadata": {
      "needs_background": "light"
     },
     "output_type": "display_data"
    }
   ],
   "source": [
    "x = pns.T[0]\n",
    "y = pns.T[2]\n",
    "plt.plot(x,y,'g-',x,y,'bo')\n",
    "plt.xlabel('$\\lambda$')\n",
    "plt.ylabel('Iteraciones')\n",
    "plt.show()"
   ]
  },
  {
   "cell_type": "code",
   "execution_count": 19,
   "metadata": {},
   "outputs": [
    {
     "data": {
      "image/png": "[encoded data removed]",
      "text/plain": [
       "<Figure size 432x288 with 1 Axes>"
      ]
     },
     "metadata": {
      "needs_background": "light"
     },
     "output_type": "display_data"
    }
   ],
   "source": [
    "mse = np.array(minMSE)\n",
    "x = mse.T[0]\n",
    "y = mse.T[2]\n",
    "plt.plot(x,y,'c-',x,y,'yo')\n",
    "plt.xlabel('$\\lambda$')\n",
    "plt.ylabel('MSE')\n",
    "plt.show()"
   ]
  },
  {
   "cell_type": "code",
   "execution_count": 20,
   "metadata": {
    "colab": {
     "base_uri": "https://localhost:8080/"
    },
    "id": "ip4oc4unph5G",
    "outputId": "97edf558-7c05-48be-a572-aed26dffeaf1"
   },
   "outputs": [
    {
     "data": {
      "text/plain": [
       "21"
      ]
     },
     "execution_count": 20,
     "metadata": {},
     "output_type": "execute_result"
    }
   ],
   "source": [
    "len(x)"
   ]
  },
  {
   "cell_type": "code",
   "execution_count": 21,
   "metadata": {
    "id": "JNxg2VgjmgO9"
   },
   "outputs": [],
   "source": [
    "LAMval = np.array([0,0.000001,0.000003,0.000005,0.000007,0.00001,0.00003,0.00005,0.00007,0.0001,0.0003,0.0005,0.0007,0.001,0.003,0.005,0.007,0.01,0.03,0.05,0.07])"
   ]
  },
  {
   "cell_type": "code",
   "execution_count": 22,
   "metadata": {
    "colab": {
     "base_uri": "https://localhost:8080/"
    },
    "id": "r7Pf1VCHt_2n",
    "outputId": "80f6add7-a7c3-4a61-be72-a0de41ec821e"
   },
   "outputs": [
    {
     "data": {
      "text/plain": [
       "21"
      ]
     },
     "execution_count": 22,
     "metadata": {},
     "output_type": "execute_result"
    }
   ],
   "source": [
    "len(LAMval)"
   ]
  },
  {
   "cell_type": "code",
   "execution_count": 23,
   "metadata": {
    "colab": {
     "base_uri": "https://localhost:8080/"
    },
    "id": "ylfbT5nwttM6",
    "outputId": "b356b3c1-36c9-40c8-cbd0-1033a39cc34b"
   },
   "outputs": [
    {
     "data": {
      "text/plain": [
       "1"
      ]
     },
     "execution_count": 23,
     "metadata": {},
     "output_type": "execute_result"
    }
   ],
   "source": [
    "len(plotY)"
   ]
  },
  {
   "cell_type": "code",
   "execution_count": 24,
   "metadata": {
    "id": "GmMquG4QipU7"
   },
   "outputs": [],
   "source": [
    "Y = np.array(plotY[0]).T"
   ]
  },
  {
   "cell_type": "code",
   "execution_count": 25,
   "metadata": {
    "colab": {
     "base_uri": "https://localhost:8080/"
    },
    "id": "McO1WvmAttSE",
    "outputId": "ef56dae5-1107-4761-aeee-078f3d9cd05c"
   },
   "outputs": [
    {
     "data": {
      "text/plain": [
       "(21, 5000)"
      ]
     },
     "execution_count": 25,
     "metadata": {},
     "output_type": "execute_result"
    }
   ],
   "source": [
    "Y.shape"
   ]
  },
  {
   "cell_type": "code",
   "execution_count": 26,
   "metadata": {
    "colab": {
     "base_uri": "https://localhost:8080/",
     "height": 325
    },
    "id": "IhLOXCogem69",
    "outputId": "d5f2dedc-2df5-48a8-9638-f2bc3964b662"
   },
   "outputs": [
    {
     "data": {
      "image/png": "[encoded data removed]",
      "text/plain": [
       "<Figure size 432x288 with 1 Axes>"
      ]
     },
     "metadata": {
      "needs_background": "light"
     },
     "output_type": "display_data"
    }
   ],
   "source": [
    "x = np.arange(Y.shape[1])\n",
    "plt.plot(x,Y[0],x,Y[1],x,Y[2],x,Y[3],x,Y[4],x,Y[5],x,Y[6],x,Y[7],x,Y[8],x,Y[9],x,Y[10],x,Y[11],x,Y[12],x,Y[13],x,Y[14])\n",
    "plt.legend(('$\\lambda =0$', '$\\lambda =0.0005$', '$\\lambda =0.001$','$\\lambda =0.0025$','$\\lambda =0.005$','$\\lambda =0.0075$', '$\\lambda = 0.01$', '$\\lambda =0.025$','$\\lambda = 0.05$','$\\lambda =0.075$','$\\lambda =0.1$', '$\\lambda =0.25$','$\\lambda =0.5$', '$\\lambda = 0.75$','$\\lambda =1$','$\\lambda =1.5$'),\n",
    "prop = {'size': 10}, loc='lower right')\n",
    "plt.xlabel('Iteración')\n",
    "plt.ylabel('PNSR')\n",
    "plt.show()"
   ]
  },
  {
   "cell_type": "code",
   "execution_count": 27,
   "metadata": {
    "colab": {
     "base_uri": "https://localhost:8080/",
     "height": 279
    },
    "id": "7wsgu3nUx4-T",
    "outputId": "f667b537-da16-4aa2-9480-c47beeeb20a9"
   },
   "outputs": [
    {
     "data": {
      "image/png": "[encoded data removed]",
      "text/plain": [
       "<Figure size 432x288 with 1 Axes>"
      ]
     },
     "metadata": {
      "needs_background": "light"
     },
     "output_type": "display_data"
    }
   ],
   "source": [
    "x = np.arange(Y.shape[1])\n",
    "plt.plot(x,Y[0],x,Y[1],x,Y[2],x,Y[3],x,Y[4],x,Y[5],x,Y[6])\n",
    "plt.legend(('$\\lambda =0$', '$\\lambda =0.001$', '$\\lambda =0.0025$','$\\lambda =0.005$','$\\lambda =0.01$','$\\lambda =0.015$', '$\\lambda = 0.03$'),\n",
    "prop = {'size': 10}, loc='lower right')\n",
    "plt.xlabel('Iteración')\n",
    "plt.ylabel('PNSR')\n",
    "plt.show()"
   ]
  },
  {
   "cell_type": "code",
   "execution_count": 28,
   "metadata": {
    "id": "kAOc_Co9dwQA"
   },
   "outputs": [],
   "source": [
    "LAMvaltxt = np.array(['0','0.0005','0.001','0.0025','0.005','0.0075','0.01','0.025','0.05','0.075','0.1','0.25','0.5','0.75','1','1.5'])"
   ]
  },
  {
   "cell_type": "code",
   "execution_count": 29,
   "metadata": {
    "colab": {
     "base_uri": "https://localhost:8080/"
    },
    "id": "clFOQdW5ymfA",
    "outputId": "f8ed5df8-0da2-47ae-ef6d-296351c41e2c"
   },
   "outputs": [
    {
     "name": "stdout",
     "output_type": "stream",
     "text": [
      "./restoration/DIP91/DIP2denoised_0image_Lena512rgb.png\n",
      "./restoration/DIP91/DIP2denoised_0.0005image_Lena512rgb.png\n",
      "./restoration/DIP91/DIP2denoised_0.001image_Lena512rgb.png\n",
      "./restoration/DIP91/DIP2denoised_0.0025image_Lena512rgb.png\n",
      "./restoration/DIP91/DIP2denoised_0.005image_Lena512rgb.png\n",
      "./restoration/DIP91/DIP2denoised_0.0075image_Lena512rgb.png\n",
      "./restoration/DIP91/DIP2denoised_0.01image_Lena512rgb.png\n",
      "./restoration/DIP91/DIP2denoised_0.025image_Lena512rgb.png\n",
      "./restoration/DIP91/DIP2denoised_0.05image_Lena512rgb.png\n",
      "./restoration/DIP91/DIP2denoised_0.075image_Lena512rgb.png\n",
      "./restoration/DIP91/DIP2denoised_0.1image_Lena512rgb.png\n",
      "./restoration/DIP91/DIP2denoised_0.25image_Lena512rgb.png\n",
      "./restoration/DIP91/DIP2denoised_0.5image_Lena512rgb.png\n",
      "./restoration/DIP91/DIP2denoised_0.75image_Lena512rgb.png\n",
      "./restoration/DIP91/DIP2denoised_1image_Lena512rgb.png\n",
      "./restoration/DIP91/DIP2denoised_1.5image_Lena512rgb.png\n"
     ]
    }
   ],
   "source": [
    "#ruta = '/content/gdrive/MyDrive/SeminariodetesisI/Codigo/DIP_VBTV/restoration/P4/denoised_'\n",
    "ruta = './restoration/DIP91/DIP2denoised_'\n",
    "#ruta = './restoration/P5deb/deblurred_'\n",
    "ls = []\n",
    "\n",
    "for i in range(len(LAMvaltxt)):\n",
    "    fname = ruta + LAMvaltxt[i] + nameimg\n",
    "    print(fname)\n",
    "    imgOut = cv2.imread(fname, cv2.IMREAD_GRAYSCALE)\n",
    "    ls.append(imgOut)"
   ]
  },
  {
   "cell_type": "code",
   "execution_count": 30,
   "metadata": {
    "colab": {
     "base_uri": "https://localhost:8080/",
     "height": 35
    },
    "id": "dS6UY1yz0crd",
    "outputId": "c271bfa7-289c-4ade-a086-1f2f0ec27b91"
   },
   "outputs": [
    {
     "data": {
      "text/plain": [
       "'./restoration/DIP91/DIP2denoised_1.5image_Lena512rgb.png'"
      ]
     },
     "execution_count": 30,
     "metadata": {},
     "output_type": "execute_result"
    }
   ],
   "source": [
    "fname"
   ]
  },
  {
   "cell_type": "code",
   "execution_count": 31,
   "metadata": {
    "colab": {
     "base_uri": "https://localhost:8080/"
    },
    "id": "4MEoFYUL0fXs",
    "outputId": "cdf28f20-7c1b-4a8e-821c-2b9716c6c0a1"
   },
   "outputs": [
    {
     "data": {
      "text/plain": [
       "[None,\n",
       " None,\n",
       " None,\n",
       " None,\n",
       " None,\n",
       " None,\n",
       " None,\n",
       " None,\n",
       " None,\n",
       " None,\n",
       " None,\n",
       " None,\n",
       " None,\n",
       " None,\n",
       " None,\n",
       " None]"
      ]
     },
     "execution_count": 31,
     "metadata": {},
     "output_type": "execute_result"
    }
   ],
   "source": [
    "ls"
   ]
  },
  {
   "cell_type": "code",
   "execution_count": 32,
   "metadata": {
    "colab": {
     "base_uri": "https://localhost:8080/",
     "height": 269
    },
    "id": "7gTU4dWf0I3T",
    "outputId": "4b382f78-03e0-4b38-f0cd-bc41d75f7cec"
   },
   "outputs": [
    {
     "ename": "TypeError",
     "evalue": "Image data of dtype object cannot be converted to float",
     "output_type": "error",
     "traceback": [
      "\u001b[0;31m---------------------------------------------------------------------------\u001b[0m",
      "\u001b[0;31mTypeError\u001b[0m                                 Traceback (most recent call last)",
      "\u001b[0;32m/tmp/ipykernel_4955/2658516111.py\u001b[0m in \u001b[0;36m<cell line: 1>\u001b[0;34m()\u001b[0m\n\u001b[0;32m----> 1\u001b[0;31m \u001b[0mplt\u001b[0m\u001b[0;34m.\u001b[0m\u001b[0mimshow\u001b[0m\u001b[0;34m(\u001b[0m\u001b[0mls\u001b[0m\u001b[0;34m[\u001b[0m\u001b[0;36m0\u001b[0m\u001b[0;34m]\u001b[0m\u001b[0;34m)\u001b[0m\u001b[0;34m\u001b[0m\u001b[0;34m\u001b[0m\u001b[0m\n\u001b[0m\u001b[1;32m      2\u001b[0m \u001b[0mplt\u001b[0m\u001b[0;34m.\u001b[0m\u001b[0mshow\u001b[0m\u001b[0;34m(\u001b[0m\u001b[0;34m)\u001b[0m\u001b[0;34m\u001b[0m\u001b[0;34m\u001b[0m\u001b[0m\n",
      "\u001b[0;32m~/anaconda3/lib/python3.8/site-packages/matplotlib/_api/deprecation.py\u001b[0m in \u001b[0;36mwrapper\u001b[0;34m(*args, **kwargs)\u001b[0m\n\u001b[1;32m    457\u001b[0m                 \u001b[0;34m\"parameter will become keyword-only %(removal)s.\"\u001b[0m\u001b[0;34m,\u001b[0m\u001b[0;34m\u001b[0m\u001b[0;34m\u001b[0m\u001b[0m\n\u001b[1;32m    458\u001b[0m                 name=name, obj_type=f\"parameter of {func.__name__}()\")\n\u001b[0;32m--> 459\u001b[0;31m         \u001b[0;32mreturn\u001b[0m \u001b[0mfunc\u001b[0m\u001b[0;34m(\u001b[0m\u001b[0;34m*\u001b[0m\u001b[0margs\u001b[0m\u001b[0;34m,\u001b[0m \u001b[0;34m**\u001b[0m\u001b[0mkwargs\u001b[0m\u001b[0;34m)\u001b[0m\u001b[0;34m\u001b[0m\u001b[0;34m\u001b[0m\u001b[0m\n\u001b[0m\u001b[1;32m    460\u001b[0m \u001b[0;34m\u001b[0m\u001b[0m\n\u001b[1;32m    461\u001b[0m     \u001b[0;31m# Don't modify *func*'s signature, as boilerplate.py needs it.\u001b[0m\u001b[0;34m\u001b[0m\u001b[0;34m\u001b[0m\u001b[0;34m\u001b[0m\u001b[0m\n",
      "\u001b[0;32m~/anaconda3/lib/python3.8/site-packages/matplotlib/pyplot.py\u001b[0m in \u001b[0;36mimshow\u001b[0;34m(X, cmap, norm, aspect, interpolation, alpha, vmin, vmax, origin, extent, interpolation_stage, filternorm, filterrad, resample, url, data, **kwargs)\u001b[0m\n\u001b[1;32m   2650\u001b[0m         \u001b[0minterpolation_stage\u001b[0m\u001b[0;34m=\u001b[0m\u001b[0;32mNone\u001b[0m\u001b[0;34m,\u001b[0m \u001b[0mfilternorm\u001b[0m\u001b[0;34m=\u001b[0m\u001b[0;32mTrue\u001b[0m\u001b[0;34m,\u001b[0m \u001b[0mfilterrad\u001b[0m\u001b[0;34m=\u001b[0m\u001b[0;36m4.0\u001b[0m\u001b[0;34m,\u001b[0m\u001b[0;34m\u001b[0m\u001b[0;34m\u001b[0m\u001b[0m\n\u001b[1;32m   2651\u001b[0m         resample=None, url=None, data=None, **kwargs):\n\u001b[0;32m-> 2652\u001b[0;31m     __ret = gca().imshow(\n\u001b[0m\u001b[1;32m   2653\u001b[0m         \u001b[0mX\u001b[0m\u001b[0;34m,\u001b[0m \u001b[0mcmap\u001b[0m\u001b[0;34m=\u001b[0m\u001b[0mcmap\u001b[0m\u001b[0;34m,\u001b[0m \u001b[0mnorm\u001b[0m\u001b[0;34m=\u001b[0m\u001b[0mnorm\u001b[0m\u001b[0;34m,\u001b[0m \u001b[0maspect\u001b[0m\u001b[0;34m=\u001b[0m\u001b[0maspect\u001b[0m\u001b[0;34m,\u001b[0m\u001b[0;34m\u001b[0m\u001b[0;34m\u001b[0m\u001b[0m\n\u001b[1;32m   2654\u001b[0m         \u001b[0minterpolation\u001b[0m\u001b[0;34m=\u001b[0m\u001b[0minterpolation\u001b[0m\u001b[0;34m,\u001b[0m \u001b[0malpha\u001b[0m\u001b[0;34m=\u001b[0m\u001b[0malpha\u001b[0m\u001b[0;34m,\u001b[0m \u001b[0mvmin\u001b[0m\u001b[0;34m=\u001b[0m\u001b[0mvmin\u001b[0m\u001b[0;34m,\u001b[0m\u001b[0;34m\u001b[0m\u001b[0;34m\u001b[0m\u001b[0m\n",
      "\u001b[0;32m~/anaconda3/lib/python3.8/site-packages/matplotlib/_api/deprecation.py\u001b[0m in \u001b[0;36mwrapper\u001b[0;34m(*args, **kwargs)\u001b[0m\n\u001b[1;32m    457\u001b[0m                 \u001b[0;34m\"parameter will become keyword-only %(removal)s.\"\u001b[0m\u001b[0;34m,\u001b[0m\u001b[0;34m\u001b[0m\u001b[0;34m\u001b[0m\u001b[0m\n\u001b[1;32m    458\u001b[0m                 name=name, obj_type=f\"parameter of {func.__name__}()\")\n\u001b[0;32m--> 459\u001b[0;31m         \u001b[0;32mreturn\u001b[0m \u001b[0mfunc\u001b[0m\u001b[0;34m(\u001b[0m\u001b[0;34m*\u001b[0m\u001b[0margs\u001b[0m\u001b[0;34m,\u001b[0m \u001b[0;34m**\u001b[0m\u001b[0mkwargs\u001b[0m\u001b[0;34m)\u001b[0m\u001b[0;34m\u001b[0m\u001b[0;34m\u001b[0m\u001b[0m\n\u001b[0m\u001b[1;32m    460\u001b[0m \u001b[0;34m\u001b[0m\u001b[0m\n\u001b[1;32m    461\u001b[0m     \u001b[0;31m# Don't modify *func*'s signature, as boilerplate.py needs it.\u001b[0m\u001b[0;34m\u001b[0m\u001b[0;34m\u001b[0m\u001b[0;34m\u001b[0m\u001b[0m\n",
      "\u001b[0;32m~/anaconda3/lib/python3.8/site-packages/matplotlib/__init__.py\u001b[0m in \u001b[0;36minner\u001b[0;34m(ax, data, *args, **kwargs)\u001b[0m\n\u001b[1;32m   1410\u001b[0m     \u001b[0;32mdef\u001b[0m \u001b[0minner\u001b[0m\u001b[0;34m(\u001b[0m\u001b[0max\u001b[0m\u001b[0;34m,\u001b[0m \u001b[0;34m*\u001b[0m\u001b[0margs\u001b[0m\u001b[0;34m,\u001b[0m \u001b[0mdata\u001b[0m\u001b[0;34m=\u001b[0m\u001b[0;32mNone\u001b[0m\u001b[0;34m,\u001b[0m \u001b[0;34m**\u001b[0m\u001b[0mkwargs\u001b[0m\u001b[0;34m)\u001b[0m\u001b[0;34m:\u001b[0m\u001b[0;34m\u001b[0m\u001b[0;34m\u001b[0m\u001b[0m\n\u001b[1;32m   1411\u001b[0m         \u001b[0;32mif\u001b[0m \u001b[0mdata\u001b[0m \u001b[0;32mis\u001b[0m \u001b[0;32mNone\u001b[0m\u001b[0;34m:\u001b[0m\u001b[0;34m\u001b[0m\u001b[0;34m\u001b[0m\u001b[0m\n\u001b[0;32m-> 1412\u001b[0;31m             \u001b[0;32mreturn\u001b[0m \u001b[0mfunc\u001b[0m\u001b[0;34m(\u001b[0m\u001b[0max\u001b[0m\u001b[0;34m,\u001b[0m \u001b[0;34m*\u001b[0m\u001b[0mmap\u001b[0m\u001b[0;34m(\u001b[0m\u001b[0msanitize_sequence\u001b[0m\u001b[0;34m,\u001b[0m \u001b[0margs\u001b[0m\u001b[0;34m)\u001b[0m\u001b[0;34m,\u001b[0m \u001b[0;34m**\u001b[0m\u001b[0mkwargs\u001b[0m\u001b[0;34m)\u001b[0m\u001b[0;34m\u001b[0m\u001b[0;34m\u001b[0m\u001b[0m\n\u001b[0m\u001b[1;32m   1413\u001b[0m \u001b[0;34m\u001b[0m\u001b[0m\n\u001b[1;32m   1414\u001b[0m         \u001b[0mbound\u001b[0m \u001b[0;34m=\u001b[0m \u001b[0mnew_sig\u001b[0m\u001b[0;34m.\u001b[0m\u001b[0mbind\u001b[0m\u001b[0;34m(\u001b[0m\u001b[0max\u001b[0m\u001b[0;34m,\u001b[0m \u001b[0;34m*\u001b[0m\u001b[0margs\u001b[0m\u001b[0;34m,\u001b[0m \u001b[0;34m**\u001b[0m\u001b[0mkwargs\u001b[0m\u001b[0;34m)\u001b[0m\u001b[0;34m\u001b[0m\u001b[0;34m\u001b[0m\u001b[0m\n",
      "\u001b[0;32m~/anaconda3/lib/python3.8/site-packages/matplotlib/axes/_axes.py\u001b[0m in \u001b[0;36mimshow\u001b[0;34m(self, X, cmap, norm, aspect, interpolation, alpha, vmin, vmax, origin, extent, interpolation_stage, filternorm, filterrad, resample, url, **kwargs)\u001b[0m\n\u001b[1;32m   5479\u001b[0m                               **kwargs)\n\u001b[1;32m   5480\u001b[0m \u001b[0;34m\u001b[0m\u001b[0m\n\u001b[0;32m-> 5481\u001b[0;31m         \u001b[0mim\u001b[0m\u001b[0;34m.\u001b[0m\u001b[0mset_data\u001b[0m\u001b[0;34m(\u001b[0m\u001b[0mX\u001b[0m\u001b[0;34m)\u001b[0m\u001b[0;34m\u001b[0m\u001b[0;34m\u001b[0m\u001b[0m\n\u001b[0m\u001b[1;32m   5482\u001b[0m         \u001b[0mim\u001b[0m\u001b[0;34m.\u001b[0m\u001b[0mset_alpha\u001b[0m\u001b[0;34m(\u001b[0m\u001b[0malpha\u001b[0m\u001b[0;34m)\u001b[0m\u001b[0;34m\u001b[0m\u001b[0;34m\u001b[0m\u001b[0m\n\u001b[1;32m   5483\u001b[0m         \u001b[0;32mif\u001b[0m \u001b[0mim\u001b[0m\u001b[0;34m.\u001b[0m\u001b[0mget_clip_path\u001b[0m\u001b[0;34m(\u001b[0m\u001b[0;34m)\u001b[0m \u001b[0;32mis\u001b[0m \u001b[0;32mNone\u001b[0m\u001b[0;34m:\u001b[0m\u001b[0;34m\u001b[0m\u001b[0;34m\u001b[0m\u001b[0m\n",
      "\u001b[0;32m~/anaconda3/lib/python3.8/site-packages/matplotlib/image.py\u001b[0m in \u001b[0;36mset_data\u001b[0;34m(self, A)\u001b[0m\n\u001b[1;32m    704\u001b[0m         if (self._A.dtype != np.uint8 and\n\u001b[1;32m    705\u001b[0m                 not np.can_cast(self._A.dtype, float, \"same_kind\")):\n\u001b[0;32m--> 706\u001b[0;31m             raise TypeError(\"Image data of dtype {} cannot be converted to \"\n\u001b[0m\u001b[1;32m    707\u001b[0m                             \"float\".format(self._A.dtype))\n\u001b[1;32m    708\u001b[0m \u001b[0;34m\u001b[0m\u001b[0m\n",
      "\u001b[0;31mTypeError\u001b[0m: Image data of dtype object cannot be converted to float"
     ]
    },
    {
     "data": {
      "image/png": "[encoded data removed]",
      "text/plain": [
       "<Figure size 432x288 with 1 Axes>"
      ]
     },
     "metadata": {
      "needs_background": "light"
     },
     "output_type": "display_data"
    }
   ],
   "source": [
    "plt.imshow(ls[0])\n",
    "plt.show()"
   ]
  },
  {
   "cell_type": "code",
   "execution_count": null,
   "metadata": {
    "id": "4EtWmR5hzS-h"
   },
   "outputs": [],
   "source": [
    "def printImgs(images, n=1, m=1, title=''):\n",
    "    \n",
    "    images = images[:n*m]\n",
    "    fig, axs = plt.subplots(\n",
    "        nrows=n, ncols=m, \n",
    "        figsize=(15, 20), \n",
    "        subplot_kw={\n",
    "            'xticks': [], \n",
    "            'yticks': []\n",
    "        }\n",
    "    )\n",
    "    for ax, image in zip(axs.flat, images):\n",
    "        ax.imshow(image, cmap='gray')\n",
    "        \n",
    "    plt.show()"
   ]
  },
  {
   "cell_type": "code",
   "execution_count": null,
   "metadata": {
    "colab": {
     "base_uri": "https://localhost:8080/",
     "height": 1000
    },
    "id": "EiRRjRmsz7Q1",
    "outputId": "095549b3-fdd0-4e3c-c42c-4f84283ba26b"
   },
   "outputs": [],
   "source": [
    "printImgs(ls, 4, 4)"
   ]
  },
  {
   "cell_type": "code",
   "execution_count": null,
   "metadata": {
    "id": "xJFEHU0jd3ip"
   },
   "outputs": [],
   "source": [
    "31.281061627485805 - 31.38136879897012"
   ]
  },
  {
   "cell_type": "code",
   "execution_count": null,
   "metadata": {
    "id": "tO_fWyUDd3k3"
   },
   "outputs": [],
   "source": []
  }
 ],
 "metadata": {
  "colab": {
   "collapsed_sections": [],
   "provenance": []
  },
  "gpuClass": "standard",
  "kernelspec": {
   "display_name": "Python 3 (ipykernel)",
   "language": "python",
   "name": "python3"
  },
  "language_info": {
   "codemirror_mode": {
    "name": "ipython",
    "version": 3
   },
   "file_extension": ".py",
   "mimetype": "text/x-python",
   "name": "python",
   "nbconvert_exporter": "python",
   "pygments_lexer": "ipython3",
   "version": "3.8.12"
  }
 },
 "nbformat": 4,
 "nbformat_minor": 1
}
