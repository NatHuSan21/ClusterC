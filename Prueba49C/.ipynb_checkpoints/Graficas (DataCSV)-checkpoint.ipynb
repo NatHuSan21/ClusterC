{
 "cells": [
  {
   "cell_type": "code",
   "execution_count": 1,
   "metadata": {
    "colab": {
     "base_uri": "https://localhost:8080/"
    },
    "id": "4TOgU3uidVOs",
    "outputId": "0911bcf4-73a8-4cea-e603-762dc754b236"
   },
   "outputs": [],
   "source": [
    "#from google.colab import drive\n",
    "#drive.mount('/content/gdrive/')"
   ]
  },
  {
   "cell_type": "code",
   "execution_count": 2,
   "metadata": {
    "id": "dHUiwyD3dVI3"
   },
   "outputs": [],
   "source": [
    "#import sys\n",
    "#sys.path.append('/content/gdrive/MyDrive/SeminariodetesisI/Codigo/DIP_VBTV/')\n"
   ]
  },
  {
   "cell_type": "code",
   "execution_count": 3,
   "metadata": {
    "id": "R1_Jru2GdNrO"
   },
   "outputs": [],
   "source": [
    "#import os\n",
    "import cv2\n",
    "import numpy as np\n",
    "import matplotlib.pyplot as plt"
   ]
  },
  {
   "cell_type": "code",
   "execution_count": 4,
   "metadata": {
    "id": "EjSdnmwHgWyk"
   },
   "outputs": [],
   "source": [
    "ni = 18\n",
    "\n",
    "nameimg = 'kodim' + str(ni) + '.png' #'image_Peppers512rgb.png' #'kodim13.png' #'kodim18.png'#'butterfly.png'#"
   ]
  },
  {
   "cell_type": "code",
   "execution_count": 5,
   "metadata": {
    "colab": {
     "base_uri": "https://localhost:8080/"
    },
    "id": "VPL6MRKpesTV",
    "outputId": "999864c8-689a-4a49-eca1-49cfa09e6d17"
   },
   "outputs": [],
   "source": [
    "\n",
    "i = 18\n",
    "\n",
    "resData = []\n",
    "for i in range(1,25):\n",
    "    nameimg = 'kodim' + str(i) + '.png'\n",
    "    maxPnsr = []\n",
    "\n",
    "    ruta  = './txt93/'\n",
    "    name = nameimg.replace('.png','.csv')\n",
    "\n",
    "    fname = ruta + 'P93' + 'denMAXval' + name\n",
    "    #'/txt/1denMAXvalimage_Lena512rgb.csv'\n",
    "    data = np.genfromtxt(fname, delimiter=',')\n",
    "    maxPnsr.append(data)\n",
    "    #print(data)\n",
    "\n",
    "    pns = np.array(maxPnsr)\n",
    "\n",
    "    valMX,q = (np.max(pns.T[1]), np.argmax(pns.T[1]))\n",
    "\n",
    "    lamA = pns.T[0][q]\n",
    "\n",
    "    lam = lamA[0]\n",
    "\n",
    "    fila = pns.T[:,q]\n",
    "\n",
    "    dif = np.max(pns.T[1]) - pns.T[1,0]\n",
    "    \n",
    "    fila = np.append(fila,dif)\n",
    "    \n",
    "    resData.append(fila)"
   ]
  },
  {
   "cell_type": "code",
   "execution_count": 6,
   "metadata": {},
   "outputs": [],
   "source": [
    "resData=np.array(resData)"
   ]
  },
  {
   "cell_type": "code",
   "execution_count": 7,
   "metadata": {},
   "outputs": [
    {
     "data": {
      "text/plain": [
       "(24, 4)"
      ]
     },
     "execution_count": 7,
     "metadata": {},
     "output_type": "execute_result"
    }
   ],
   "source": [
    "resData.shape"
   ]
  },
  {
   "cell_type": "code",
   "execution_count": 8,
   "metadata": {},
   "outputs": [],
   "source": [
    "def pritnTab1(Data,n):\n",
    "    #n = Data.shape[0]\n",
    "    for i in range(n):\n",
    "        print('kodim' + str(i+1) + '.png', ' & ' ,Data[i,0] , ' & ' ,Data[i,1] , ' & ', Data[i,2] ,' & ', Data[i,3] ,' \\\\\\\\' )"
   ]
  },
  {
   "cell_type": "code",
   "execution_count": 9,
   "metadata": {
    "id": "tO2GjsFckJ-K"
   },
   "outputs": [],
   "source": [
    "def pritnTab2(Data,namesIMGE,k):\n",
    "    n = Data.shape[0]\n",
    "    j = 0\n",
    "    for i in range(k,n):\n",
    "        print(namesIMGE[j], ' & ' ,Data[i,0] , ' & ' ,Data[i,1] , ' & ', Data[i,2] ,' & ', Data[i,3] ,' \\\\\\\\' )\n",
    "        j+=1"
   ]
  },
  {
   "cell_type": "code",
   "execution_count": 10,
   "metadata": {
    "colab": {
     "base_uri": "https://localhost:8080/"
    },
    "id": "4WKJxJLkl1yF",
    "outputId": "8d463520-cbef-4e78-dd4f-e03f7c2b18cf"
   },
   "outputs": [
    {
     "name": "stdout",
     "output_type": "stream",
     "text": [
      "kodim1.png  &  3e-05  &  41.62033883940508  &  2.0  &  0.066551077270816  \\\\\n",
      "kodim2.png  &  0.0007  &  31.978268133211806  &  3.0  &  0.15878255847619016  \\\\\n",
      "kodim3.png  &  1e-06  &  38.7977673689463  &  3.0  &  0.0  \\\\\n",
      "kodim4.png  &  0.0001  &  34.78836783338574  &  4.0  &  0.32155756899018684  \\\\\n",
      "kodim5.png  &  0.0003  &  37.80035375656949  &  0.0  &  0.05201155907690236  \\\\\n",
      "kodim6.png  &  1e-06  &  41.3737692042882  &  0.0  &  0.0  \\\\\n",
      "kodim7.png  &  0.0005  &  40.86114049983547  &  0.0  &  0.34735876391641796  \\\\\n",
      "kodim8.png  &  0.0007  &  43.56908446362402  &  0.0  &  0.0935881313473459  \\\\\n",
      "kodim9.png  &  0.0007  &  45.42237811020807  &  0.0  &  0.7047573491568428  \\\\\n",
      "kodim10.png  &  1e-06  &  44.75915603418165  &  0.0  &  0.0  \\\\\n",
      "kodim11.png  &  7e-06  &  38.34494279228468  &  1.0  &  0.14789107915438393  \\\\\n",
      "kodim12.png  &  5e-06  &  42.71232970472759  &  1.0  &  1.7679051355394506  \\\\\n",
      "kodim13.png  &  0.0005  &  43.399900098850026  &  0.0  &  0.5729502681247212  \\\\\n",
      "kodim14.png  &  5e-05  &  39.331108889656264  &  0.0  &  0.012610205355571225  \\\\\n",
      "kodim15.png  &  0.0007  &  34.979231068820425  &  1.0  &  0.15933279746930396  \\\\\n",
      "kodim16.png  &  5e-06  &  45.54231260251137  &  0.0  &  1.0696960658788015  \\\\\n",
      "kodim17.png  &  7e-05  &  34.48958853235977  &  0.0  &  0.11973588136592639  \\\\\n",
      "kodim18.png  &  3e-05  &  39.97577891861945  &  0.0  &  0.06125798252811876  \\\\\n",
      "kodim19.png  &  3e-06  &  45.46202745725043  &  0.0  &  0.10099655595762869  \\\\\n",
      "kodim20.png  &  7e-06  &  42.5879067069591  &  0.0  &  0.09411072859784042  \\\\\n",
      "kodim21.png  &  0.0005  &  46.177332976944655  &  0.0  &  0.8973655785638854  \\\\\n",
      "kodim22.png  &  7e-06  &  40.63404890945083  &  0.0  &  0.3308852968379128  \\\\\n",
      "kodim23.png  &  5e-05  &  35.01527185720668  &  1.0  &  0.08025471640236503  \\\\\n",
      "kodim24.png  &  0.0005  &  44.984953334119496  &  0.0  &  0.3506480562287493  \\\\\n"
     ]
    }
   ],
   "source": [
    "pritnTab1(resData,24)"
   ]
  },
  {
   "cell_type": "code",
   "execution_count": 11,
   "metadata": {},
   "outputs": [],
   "source": [
    "#pritnTab2(resData,namesIMGE,24)"
   ]
  },
  {
   "cell_type": "code",
   "execution_count": 12,
   "metadata": {
    "id": "8c9aKjm1nEd2"
   },
   "outputs": [],
   "source": [
    "pns = np.array(maxPnsr)#np.concatenate((maxPnsr[0], maxPnsr[1],maxPnsr[2], maxPnsr[3], maxPnsr[4]), axis=0)"
   ]
  },
  {
   "cell_type": "code",
   "execution_count": 13,
   "metadata": {
    "colab": {
     "base_uri": "https://localhost:8080/"
    },
    "id": "s6fpfa-zn1JW",
    "outputId": "631510a9-a646-40e0-d471-3f5b7733c2ea"
   },
   "outputs": [
    {
     "data": {
      "text/plain": [
       "array([[1.e-06],\n",
       "       [3.e-06],\n",
       "       [5.e-06],\n",
       "       [7.e-06],\n",
       "       [1.e-05],\n",
       "       [3.e-05],\n",
       "       [5.e-05],\n",
       "       [7.e-05],\n",
       "       [1.e-04],\n",
       "       [3.e-04],\n",
       "       [5.e-04],\n",
       "       [7.e-04]])"
      ]
     },
     "execution_count": 13,
     "metadata": {},
     "output_type": "execute_result"
    }
   ],
   "source": [
    "pns.T[0]"
   ]
  },
  {
   "cell_type": "code",
   "execution_count": 14,
   "metadata": {
    "colab": {
     "base_uri": "https://localhost:8080/"
    },
    "id": "ygmasQEHrHXF",
    "outputId": "8bed419a-c719-453f-b540-fb3d36c5cd8e"
   },
   "outputs": [],
   "source": [
    "valMX,q=(np.max(pns.T[1]), np.argmax(pns.T[1]))"
   ]
  },
  {
   "cell_type": "code",
   "execution_count": 15,
   "metadata": {},
   "outputs": [
    {
     "data": {
      "text/plain": [
       "44.984953334119496"
      ]
     },
     "execution_count": 15,
     "metadata": {},
     "output_type": "execute_result"
    }
   ],
   "source": [
    "valMX"
   ]
  },
  {
   "cell_type": "code",
   "execution_count": 16,
   "metadata": {},
   "outputs": [
    {
     "data": {
      "text/plain": [
       "array([0.0005])"
      ]
     },
     "execution_count": 16,
     "metadata": {},
     "output_type": "execute_result"
    }
   ],
   "source": [
    "q = np.argmax(pns.T[1])\n",
    "pns.T[0][q]"
   ]
  },
  {
   "cell_type": "code",
   "execution_count": 17,
   "metadata": {},
   "outputs": [],
   "source": [
    "val=pns.T[0][q]"
   ]
  },
  {
   "cell_type": "code",
   "execution_count": 18,
   "metadata": {},
   "outputs": [
    {
     "data": {
      "text/plain": [
       "0.0005"
      ]
     },
     "execution_count": 18,
     "metadata": {},
     "output_type": "execute_result"
    }
   ],
   "source": [
    "val[0]"
   ]
  },
  {
   "cell_type": "code",
   "execution_count": 19,
   "metadata": {},
   "outputs": [],
   "source": [
    "fila = pns.T[:,q]"
   ]
  },
  {
   "cell_type": "code",
   "execution_count": 20,
   "metadata": {},
   "outputs": [
    {
     "data": {
      "text/plain": [
       "array([[5.00000000e-04],\n",
       "       [4.49849533e+01],\n",
       "       [0.00000000e+00]])"
      ]
     },
     "execution_count": 20,
     "metadata": {},
     "output_type": "execute_result"
    }
   ],
   "source": [
    "fila"
   ]
  },
  {
   "cell_type": "code",
   "execution_count": 21,
   "metadata": {
    "colab": {
     "base_uri": "https://localhost:8080/"
    },
    "id": "ls6OKrwnrkAr",
    "outputId": "97c7214b-53ac-460d-9a87-03541fafe88a"
   },
   "outputs": [],
   "source": [
    "dif=np.max(pns.T[1]) - pns.T[1,0]"
   ]
  },
  {
   "cell_type": "code",
   "execution_count": 22,
   "metadata": {},
   "outputs": [],
   "source": [
    "fila=np.append(fila,dif)"
   ]
  },
  {
   "cell_type": "code",
   "execution_count": 23,
   "metadata": {},
   "outputs": [
    {
     "data": {
      "text/plain": [
       "array([5.00000000e-04, 4.49849533e+01, 0.00000000e+00, 3.50648056e-01])"
      ]
     },
     "execution_count": 23,
     "metadata": {},
     "output_type": "execute_result"
    }
   ],
   "source": [
    "fila"
   ]
  },
  {
   "cell_type": "code",
   "execution_count": 24,
   "metadata": {},
   "outputs": [],
   "source": [
    "freq=resData[:,0]"
   ]
  },
  {
   "cell_type": "code",
   "execution_count": 25,
   "metadata": {},
   "outputs": [
    {
     "data": {
      "text/plain": [
       "array([3.e-05, 7.e-04, 1.e-06, 1.e-04, 3.e-04, 1.e-06, 5.e-04, 7.e-04,\n",
       "       7.e-04, 1.e-06, 7.e-06, 5.e-06, 5.e-04, 5.e-05, 7.e-04, 5.e-06,\n",
       "       7.e-05, 3.e-05, 3.e-06, 7.e-06, 5.e-04, 7.e-06, 5.e-05, 5.e-04])"
      ]
     },
     "execution_count": 25,
     "metadata": {},
     "output_type": "execute_result"
    }
   ],
   "source": [
    "freq"
   ]
  },
  {
   "cell_type": "code",
   "execution_count": 26,
   "metadata": {},
   "outputs": [
    {
     "data": {
      "text/plain": [
       "(array([14.,  1.,  0.,  0.,  1.,  0.,  0.,  4.,  0.,  4.]),\n",
       " array([1.000e-06, 7.090e-05, 1.408e-04, 2.107e-04, 2.806e-04, 3.505e-04,\n",
       "        4.204e-04, 4.903e-04, 5.602e-04, 6.301e-04, 7.000e-04]),\n",
       " <BarContainer object of 10 artists>)"
      ]
     },
     "execution_count": 26,
     "metadata": {},
     "output_type": "execute_result"
    },
    {
     "data": {
      "image/png": "[encoded data removed]",
      "text/plain": [
       "<Figure size 432x288 with 1 Axes>"
      ]
     },
     "metadata": {
      "needs_background": "light"
     },
     "output_type": "display_data"
    }
   ],
   "source": [
    "import matplotlib.pyplot as plt\n",
    "plt.hist(freq)"
   ]
  },
  {
   "cell_type": "code",
   "execution_count": 27,
   "metadata": {},
   "outputs": [
    {
     "ename": "AttributeError",
     "evalue": "'numpy.ndarray' object has no attribute 'plot'",
     "output_type": "error",
     "traceback": [
      "\u001b[0;31m---------------------------------------------------------------------------\u001b[0m",
      "\u001b[0;31mAttributeError\u001b[0m                            Traceback (most recent call last)",
      "\u001b[0;32m/tmp/ipykernel_10836/4001984044.py\u001b[0m in \u001b[0;36m<cell line: 1>\u001b[0;34m()\u001b[0m\n\u001b[0;32m----> 1\u001b[0;31m \u001b[0mfreq\u001b[0m\u001b[0;34m.\u001b[0m\u001b[0mplot\u001b[0m\u001b[0;34m(\u001b[0m\u001b[0mkind\u001b[0m \u001b[0;34m=\u001b[0m \u001b[0;34m'bar'\u001b[0m\u001b[0;34m)\u001b[0m\u001b[0;34m\u001b[0m\u001b[0;34m\u001b[0m\u001b[0m\n\u001b[0m",
      "\u001b[0;31mAttributeError\u001b[0m: 'numpy.ndarray' object has no attribute 'plot'"
     ]
    }
   ],
   "source": [
    "freq.plot(kind = 'bar')"
   ]
  },
  {
   "cell_type": "code",
   "execution_count": null,
   "metadata": {},
   "outputs": [],
   "source": []
  }
 ],
 "metadata": {
  "colab": {
   "collapsed_sections": [],
   "provenance": []
  },
  "gpuClass": "standard",
  "kernelspec": {
   "display_name": "Python 3 (ipykernel)",
   "language": "python",
   "name": "python3"
  },
  "language_info": {
   "codemirror_mode": {
    "name": "ipython",
    "version": 3
   },
   "file_extension": ".py",
   "mimetype": "text/x-python",
   "name": "python",
   "nbconvert_exporter": "python",
   "pygments_lexer": "ipython3",
   "version": "3.8.12"
  }
 },
 "nbformat": 4,
 "nbformat_minor": 1
}
